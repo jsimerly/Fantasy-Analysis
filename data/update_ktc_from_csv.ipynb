{
 "cells": [
  {
   "cell_type": "code",
   "execution_count": 2,
   "metadata": {},
   "outputs": [],
   "source": [
    "import pandas as pd\n",
    "import numpy as np\n",
    "import matplotlib.pyplot as plt\n",
    "import seaborn as sns\n",
    "from sqlalchemy.orm import sessionmaker\n",
    "from sqlalchemy import create_engine, not_\n",
    "from dotenv import load_dotenv\n",
    "import os\n",
    "import sys\n",
    "import requests\n",
    "from typing import Any\n",
    "from bs4 import BeautifulSoup\n",
    "import time\n",
    "import re\n",
    "import random\n",
    "import json\n",
    "from datetime import datetime\n",
    "\n",
    "from models import Player, GameStats, KtcValue"
   ]
  },
  {
   "cell_type": "code",
   "execution_count": 3,
   "metadata": {},
   "outputs": [],
   "source": [
    "load_dotenv()\n",
    "DB_USERNAME = os.environ['DB_USERNAME']\n",
    "DB_PASSWORD = os.environ['DB_PASSWORD']\n",
    "DB_HOST = os.environ['DB_HOST']\n",
    "DB_PORT = os.environ['DB_PORT']\n",
    "DB_NAME = os.environ['DB_NAME']\n",
    "\n",
    "DB_URL = f\"postgresql://{DB_USERNAME}:{DB_PASSWORD}@{DB_HOST}:{DB_PORT}/{DB_NAME}\"\n",
    "engine = create_engine(DB_URL, echo=False)\n",
    "\n",
    "Session = sessionmaker(bind=engine)\n",
    "session = Session()"
   ]
  },
  {
   "cell_type": "code",
   "execution_count": 5,
   "metadata": {},
   "outputs": [],
   "source": [
    "player_to_ktc = pd.read_excel(\"keeptradecut (2).xlsx\")"
   ]
  },
  {
   "cell_type": "code",
   "execution_count": 6,
   "metadata": {},
   "outputs": [],
   "source": [
    "for i, row in player_to_ktc.iterrows():\n",
    "    if not pd.isna(row['url']):\n",
    "        player_id = row['url'].rsplit('/', 1)[-1]\n",
    "        player_obj = session.query(Player).filter_by(sleeper_id=str(row['sleeper_id'])).first()\n",
    "        \n",
    "        player_obj.ktc_id = player_id\n",
    "        session.commit()"
   ]
  },
  {
   "cell_type": "code",
   "execution_count": 7,
   "metadata": {},
   "outputs": [],
   "source": [
    "def fetch_soup(url) -> BeautifulSoup:\n",
    "    time.sleep(random.uniform(1,5))\n",
    "    resp = requests.get(url)\n",
    "    soup = BeautifulSoup(resp.text, 'html.parser')\n",
    "    return soup\n",
    "\n",
    "def find_value_data(soup) -> list[dict]:\n",
    "    pattern = re.compile(r'var playerSuperflex', re.MULTILINE | re.DOTALL)\n",
    "    \n",
    "    content = soup.find('script', text=pattern)\n",
    "    content = str(content)\n",
    "    bottomHalf = content.split(\"var playerSuperflex = \",1)[1]\n",
    "    fullCut = bottomHalf.split('var playerOneQB = ',1)[0].strip()\n",
    "    json_text= fullCut[:-1]\n",
    "    js = json.loads(json_text)\n",
    "    data = js['overallValue']\n",
    "    return data\n",
    "\n",
    "def scrape(sleeper_id: int, url):\n",
    "    player = session.query(Player).filter_by(sleeper_id=str(sleeper_id)).first()\n",
    "\n",
    "    if player:\n",
    "        player_soup = fetch_soup(url)\n",
    "        ktc_value_history = find_value_data(player_soup)\n",
    "        \n",
    "        for ktc_value in ktc_value_history:\n",
    "            date = datetime.strptime(ktc_value['d'], '%Y-%m-%d')\n",
    "            value = int(ktc_value['v'])\n",
    "            ktc_value_obj = KtcValue(\n",
    "                player_id = player.id,\n",
    "                date = date,\n",
    "                value = value\n",
    "            )\n",
    "            session.merge(ktc_value_obj)\n",
    "        session.commit()\n",
    "        print(f'{player.display_name} KTC data commited')"
   ]
  },
  {
   "cell_type": "code",
   "execution_count": 8,
   "metadata": {},
   "outputs": [],
   "source": [
    "player_to_ktc.dropna(inplace=True)"
   ]
  },
  {
   "cell_type": "code",
   "execution_count": 9,
   "metadata": {},
   "outputs": [
    {
     "name": "stderr",
     "output_type": "stream",
     "text": [
      "C:\\Users\\simer\\AppData\\Local\\Temp\\ipykernel_10760\\2970735583.py:10: DeprecationWarning: The 'text' argument to find()-type methods is deprecated. Use 'string' instead.\n",
      "  content = soup.find('script', text=pattern)\n"
     ]
    },
    {
     "name": "stdout",
     "output_type": "stream",
     "text": [
      "Tyjae Spears KTC data commited\n",
      "Ryan Fitzpatrick KTC data commited\n",
      "Drake Maye KTC data commited\n",
      "MarShawn Lloyd KTC data commited\n",
      "Zach Charbonnet KTC data commited\n",
      "Jayden Daniels KTC data commited\n",
      "Dalton Kincaid KTC data commited\n",
      "Jaylen Wright KTC data commited\n",
      "Xavier Legette KTC data commited\n",
      "Jamari Thrash KTC data commited\n",
      "Will Levis KTC data commited\n",
      "Anthony Richardson KTC data commited\n",
      "Jonathon Brooks KTC data commited\n",
      "Jaheim Bell KTC data commited\n",
      "Brock Bowers KTC data commited\n",
      "J.D. McKissic KTC data commited\n",
      "Brian Thomas KTC data commited\n",
      "Kellen Mond KTC data commited\n",
      "Roschon Johnson KTC data commited\n",
      "Marvin Mims KTC data commited\n",
      "Jared Cook KTC data commited\n",
      "Michael Mayer KTC data commited\n",
      "John Brown KTC data commited\n",
      "Shi Smith KTC data commited\n",
      "James Cook KTC data commited\n",
      "Trey McBride KTC data commited\n",
      "Jahmyr Gibbs KTC data commited\n",
      "Josh Downs KTC data commited\n",
      "Tank Bigsby KTC data commited\n",
      "Mike Boone KTC data commited\n",
      "Cole Beasley KTC data commited\n",
      "Marvin Harrison KTC data commited\n",
      "Ja'Lynn Polk KTC data commited\n",
      "Kenny Golladay KTC data commited\n",
      "Christian Watson KTC data commited\n",
      "Ja'Tavion Sanders KTC data commited\n",
      "Rome Odunze KTC data commited\n",
      "Caleb Williams KTC data commited\n",
      "Chris Olave KTC data commited\n",
      "Jelani Woods KTC data commited\n",
      "Mike Davis KTC data commited\n",
      "Adonai Mitchell KTC data commited\n",
      "Trey Benson KTC data commited\n",
      "Jahan Dotson KTC data commited\n",
      "Blake Jarwin KTC data commited\n",
      "Ricky Pearsall KTC data commited\n",
      "Michael Penix KTC data commited\n",
      "Sony Michel KTC data commited\n",
      "Alec Pierce KTC data commited\n",
      "Rachaad White KTC data commited\n",
      "Malik Willis KTC data commited\n",
      "Xavier Worthy KTC data commited\n",
      "Malik Nabers KTC data commited\n",
      "Giovani Bernard KTC data commited\n",
      "Jermaine Burton KTC data commited\n",
      "J.J. McCarthy KTC data commited\n",
      "Keon Coleman KTC data commited\n",
      "Kenny Pickett KTC data commited\n",
      "Wan'Dale Robinson KTC data commited\n",
      "Kylin Hill KTC data commited\n",
      "Kenneth Walker KTC data commited\n",
      "Braelon Allen KTC data commited\n",
      "Jacob Eason KTC data commited\n",
      "Will Fuller KTC data commited\n",
      "Roman Wilson KTC data commited\n",
      "Chase Brown KTC data commited\n",
      "C.J. Stroud KTC data commited\n",
      "Leonard Fournette KTC data commited\n",
      "Blake Corum KTC data commited\n",
      "Breshad Perriman KTC data commited\n",
      "Ben Sinnott KTC data commited\n",
      "Quentin Johnston KTC data commited\n",
      "Troy Franklin KTC data commited\n",
      "Jalin Hyatt KTC data commited\n",
      "Malachi Corley KTC data commited\n",
      "Jonathan Mingo KTC data commited\n",
      "Ladd McConkey KTC data commited\n",
      "Jayden Reed KTC data commited\n",
      "Kendre Miller KTC data commited\n",
      "Bo Nix KTC data commited\n",
      "Jordan Addison KTC data commited\n"
     ]
    }
   ],
   "source": [
    "for i, row in player_to_ktc.iterrows():\n",
    "    scrape(row['sleeper_id'], row['url'])"
   ]
  },
  {
   "cell_type": "code",
   "execution_count": null,
   "metadata": {},
   "outputs": [
    {
     "name": "stdout",
     "output_type": "stream",
     "text": [
      "Jarvis Landry: 628\n"
     ]
    }
   ],
   "source": [
    "player = player = session.query(Player).filter_by(sleeper_id=\"1825\").first()\n",
    "ktc_count = len(player.ktc_values) if player.ktc_values else 0\n",
    "print(f\"{player.display_name}: {ktc_count}\")"
   ]
  }
 ],
 "metadata": {
  "kernelspec": {
   "display_name": "venv",
   "language": "python",
   "name": "python3"
  },
  "language_info": {
   "codemirror_mode": {
    "name": "ipython",
    "version": 3
   },
   "file_extension": ".py",
   "mimetype": "text/x-python",
   "name": "python",
   "nbconvert_exporter": "python",
   "pygments_lexer": "ipython3",
   "version": "3.10.1"
  }
 },
 "nbformat": 4,
 "nbformat_minor": 2
}
