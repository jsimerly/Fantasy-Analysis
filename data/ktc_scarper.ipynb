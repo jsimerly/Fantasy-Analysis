{
 "cells": [
  {
   "cell_type": "code",
   "execution_count": 8,
   "metadata": {},
   "outputs": [],
   "source": [
    "from sqlalchemy import create_engine\n",
    "from sqlalchemy.orm import sessionmaker\n",
    "import pandas as pd\n",
    "import numpy as np\n",
    "import os\n",
    "import psycopg2\n",
    "from dotenv import load_dotenv\n",
    "\n",
    "from models import Player, GameStats, KtcValue\n",
    "from datetime import datetime\n",
    "import requests\n",
    "from bs4 import BeautifulSoup\n",
    "import time\n",
    "import random\n",
    "import re\n",
    "import json"
   ]
  },
  {
   "cell_type": "code",
   "execution_count": 9,
   "metadata": {},
   "outputs": [],
   "source": [
    "load_dotenv()\n",
    "DB_USERNAME = os.environ['DB_USERNAME']\n",
    "DB_PASSWORD = os.environ['DB_PASSWORD']\n",
    "DB_HOST = os.environ['DB_HOST']\n",
    "DB_PORT = os.environ['DB_PORT']\n",
    "DB_NAME = os.environ['DB_NAME']\n",
    "\n",
    "DB_URL = f\"postgresql://{DB_USERNAME}:{DB_PASSWORD}@{DB_HOST}:{DB_PORT}/{DB_NAME}\"\n",
    "engine = create_engine(DB_URL, echo=False)\n",
    "\n",
    "Session = sessionmaker(bind=engine)\n",
    "session = Session()"
   ]
  },
  {
   "cell_type": "code",
   "execution_count": 10,
   "metadata": {},
   "outputs": [],
   "source": [
    "def fetch_soup(url) -> BeautifulSoup:\n",
    "    time.sleep(random.uniform(1,5))\n",
    "    resp = requests.get(url)\n",
    "    soup = BeautifulSoup(resp.text, 'html.parser')\n",
    "    return soup"
   ]
  },
  {
   "cell_type": "code",
   "execution_count": 11,
   "metadata": {},
   "outputs": [],
   "source": [
    "def get_player_page(page_n: str) -> BeautifulSoup:\n",
    "    dynasty_url = f'https://keeptradecut.com/dynasty-rankings?page={page_n}&filters=QB|WR|RB|TE|RDP&format=2'\n",
    "    return fetch_soup(dynasty_url)\n",
    "\n",
    "\n",
    "player_urls = []\n",
    "for page in range(10):\n",
    "    player_page = get_player_page(str(page))\n",
    "    \n",
    "    player_divs = player_page.find_all('div', {'class': 'onePlayer'})\n",
    "    for div in player_divs:\n",
    "        player_urls.append(div.find('a')['href'])\n"
   ]
  },
  {
   "cell_type": "code",
   "execution_count": 12,
   "metadata": {},
   "outputs": [],
   "source": [
    "not_found = []\n",
    "\n",
    "for url in player_urls:\n",
    "    player_id = url.rsplit('/', 1)[-1]\n",
    "    player_name = player_id.rsplit('-', 1)[0].replace('-', ' ').title()\n",
    "\n",
    "    player_query = session.query(Player).filter_by(display_name=player_name).all()\n",
    "    if len(player_query) == 1:\n",
    "        player = player_query[0]\n",
    "        player.ktc_id = player_id\n",
    "        session.commit()\n",
    "    else:\n",
    "        not_found.append(player_id)\n"
   ]
  },
  {
   "cell_type": "code",
   "execution_count": 17,
   "metadata": {},
   "outputs": [
    {
     "name": "stderr",
     "output_type": "stream",
     "text": [
      "C:\\Users\\simer\\AppData\\Local\\Temp\\ipykernel_30988\\991074606.py:4: DeprecationWarning: The 'text' argument to find()-type methods is deprecated. Use 'string' instead.\n",
      "  content = soup.find('script', text=pattern)\n"
     ]
    },
    {
     "name": "stdout",
     "output_type": "stream",
     "text": [
      "Patrick Mahomes KTC data commited\n",
      "Josh Allen KTC data commited\n",
      "C.J. Stroud KTC data commited\n",
      "Justin Jefferson KTC data commited\n",
      "Ja'Marr Chase KTC data commited\n",
      "CeeDee Lamb KTC data commited\n",
      "Lamar Jackson KTC data commited\n",
      "Jalen Hurts KTC data commited\n",
      "Amon-Ra St. Brown KTC data commited\n",
      "Joe Burrow KTC data commited\n",
      "Justin Herbert KTC data commited\n",
      "Bijan Robinson KTC data commited\n",
      "Anthony Richardson KTC data commited\n",
      "Jordan Love KTC data commited\n",
      "Puka Nacua KTC data commited\n",
      "Breece Hall KTC data commited\n",
      "Jahmyr Gibbs KTC data commited\n",
      "Garrett Wilson KTC data commited\n",
      "Sam LaPorta KTC data commited\n",
      "Kyler Murray KTC data commited\n",
      "A.J. Brown KTC data commited\n",
      "Christian McCaffrey KTC data commited\n",
      "Trevor Lawrence KTC data commited\n",
      "Chris Olave KTC data commited\n"
     ]
    }
   ],
   "source": [
    "def find_value_data(soup) -> list[dict]:\n",
    "    pattern = re.compile(r'var playerSuperflex', re.MULTILINE | re.DOTALL)\n",
    "    \n",
    "    content = soup.find('script', text=pattern)\n",
    "    content = str(content)\n",
    "    bottomHalf = content.split(\"var playerSuperflex = \",1)[1]\n",
    "    fullCut = bottomHalf.split('var playerOneQB = ',1)[0].strip()\n",
    "    json_text= fullCut[:-1]\n",
    "    js = json.loads(json_text)\n",
    "    data = js['overallValue']\n",
    "    return data\n",
    "\n",
    "def scrape(player_url: str):\n",
    "    player_id = player_url.rsplit('/', 1)[-1]\n",
    "    player = session.query(Player).filter_by(ktc_id=player_id).first()\n",
    "\n",
    "    if player:\n",
    "        player_soup = fetch_soup('https://keeptradecut.com/' + player_url)\n",
    "        ktc_value_history = find_value_data(player_soup)\n",
    "        \n",
    "        for ktc_value in ktc_value_history:\n",
    "            date = datetime.strptime(ktc_value['d'], '%Y-%m-%d')\n",
    "            value = int(ktc_value['v'])\n",
    "            ktc_value_obj = KtcValue(\n",
    "                player_id = player.id,\n",
    "                date = date,\n",
    "                value = value\n",
    "            )\n",
    "            session.merge(ktc_value_obj)\n",
    "        session.commit()\n",
    "        print(f'{player.display_name} KTC data commited')\n",
    "\n",
    "\n",
    "for player_url in player_urls:\n",
    "    scrape(player_url)"
   ]
  }
 ],
 "metadata": {
  "kernelspec": {
   "display_name": "venv",
   "language": "python",
   "name": "python3"
  },
  "language_info": {
   "codemirror_mode": {
    "name": "ipython",
    "version": 3
   },
   "file_extension": ".py",
   "mimetype": "text/x-python",
   "name": "python",
   "nbconvert_exporter": "python",
   "pygments_lexer": "ipython3",
   "version": "3.10.1"
  }
 },
 "nbformat": 4,
 "nbformat_minor": 2
}
