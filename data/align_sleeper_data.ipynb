{
 "cells": [
  {
   "cell_type": "code",
   "execution_count": 19,
   "metadata": {},
   "outputs": [],
   "source": [
    "import pandas as pd\n",
    "import numpy as np\n",
    "import matplotlib.pyplot as plt\n",
    "import seaborn as sns\n",
    "from sqlalchemy.orm import sessionmaker\n",
    "from sqlalchemy import create_engine, not_\n",
    "from dotenv import load_dotenv\n",
    "import os\n",
    "import sys\n",
    "import requests\n",
    "from typing import Any\n",
    "from datetime import datetime\n",
    "from models import Player, GameStats, KtcValue"
   ]
  },
  {
   "cell_type": "code",
   "execution_count": 7,
   "metadata": {},
   "outputs": [],
   "source": [
    "def fetch(url) -> dict[str, Any]:\n",
    "    resp = requests.get(url)\n",
    "    if resp.status_code == 200:\n",
    "        return resp.json()\n",
    "    raise ValueError\n",
    "\n",
    "def get_rosters(league_id) -> dict[str, Any]:\n",
    "    url = f\"https://api.sleeper.app/v1/league/{league_id}/rosters\"\n",
    "    return fetch(url)\n",
    "\n",
    "def fetch_all_players() -> dict[str, Any]:\n",
    "    url = \"https://api.sleeper.app/v1/players/nfl\"\n",
    "    return fetch(url)"
   ]
  },
  {
   "cell_type": "code",
   "execution_count": 8,
   "metadata": {},
   "outputs": [],
   "source": [
    "all_players = fetch_all_players()"
   ]
  },
  {
   "cell_type": "code",
   "execution_count": 9,
   "metadata": {},
   "outputs": [],
   "source": [
    "load_dotenv()\n",
    "DB_USERNAME = os.environ['DB_USERNAME']\n",
    "DB_PASSWORD = os.environ['DB_PASSWORD']\n",
    "DB_HOST = os.environ['DB_HOST']\n",
    "DB_PORT = os.environ['DB_PORT']\n",
    "DB_NAME = os.environ['DB_NAME']\n",
    "\n",
    "DB_URL = f\"postgresql://{DB_USERNAME}:{DB_PASSWORD}@{DB_HOST}:{DB_PORT}/{DB_NAME}\"\n",
    "engine = create_engine(DB_URL, echo=False)\n",
    "\n",
    "Session = sessionmaker(bind=engine)\n",
    "session = Session()"
   ]
  },
  {
   "cell_type": "code",
   "execution_count": 38,
   "metadata": {},
   "outputs": [
    {
     "name": "stdout",
     "output_type": "stream",
     "text": [
      "Quinn Nordin: K\n"
     ]
    }
   ],
   "source": [
    "id = '8040'\n",
    "print(f\"{all_players[id]['full_name']}: {all_players[id]['position']}\")"
   ]
  },
  {
   "cell_type": "code",
   "execution_count": 30,
   "metadata": {},
   "outputs": [],
   "source": [
    "missing_players = []\n",
    "\n",
    "for player_id in missing_players:\n",
    "    player_id = str(player_id)\n",
    "\n",
    "    player_data = all_players[player_id]\n",
    "    player = Player(\n",
    "\n",
    "    )\n",
    "    player.birth_date = datetime.strptime(player_data.get('birth_date'), '%Y-%m-%d')\n",
    "    player.display_name = str(player_data.get('full_name'))\n",
    "    player.weight = int(player_data.get('weight'))\n",
    "    player.height = int(player_data.get('height'))\n",
    "    player.position = str(player_data.get('position'))\n",
    "    player.rookie_year = int(player_data['metadata']['rookie_year'])\n",
    "    player.college = str(player_data.get('college'))\n",
    "    player.team_abbr = str(player_data.get('team'))\n",
    "    player.sleeper_id = str(player_data.get('player_id'))\n",
    "    player.rotoworld_id = str(player_data.get('rotoworld_id', None))\n",
    "    player.rotowire_id = str(player_data.get('rotowire_id', None))\n",
    "    player.yahoo_id = str(player_data.get('yahoo_id', None))\n",
    "    player.espn_id = str(player_data.get('espn_id', None))\n",
    "    player.swish_id = str(player_data.get('swish_id', None))\n",
    "    session.add(player)\n",
    "session.commit()\n",
    "\n"
   ]
  },
  {
   "cell_type": "code",
   "execution_count": 29,
   "metadata": {},
   "outputs": [],
   "source": [
    "missing_gsis = []\n",
    "\n",
    "for player_data in all_players.values():\n",
    "    gsis_id = player_data.get('gsis_id')\n",
    "    if gsis_id:\n",
    "        player = session.query(Player).filter_by(gsis_id=gsis_id).first()\n",
    "        if player:\n",
    "            player.sleeper_id = str(player_data.get('player_id'))\n",
    "            player.rotoworld_id = str(player_data.get('rotoworld_id', None))\n",
    "            player.rotowire_id = str(player_data.get('rotowire_id', None))\n",
    "            player.yahoo_id = str(player_data.get('yahoo_id', None))\n",
    "            player.espn_id = str(player_data.get('espn_id', None))\n",
    "            player.swish_id = str(player_data.get('swish_id', None))\n",
    "            session.add(player)\n",
    "        else:\n",
    "            missing_players.append(player_data['full_name'])\n",
    "            missing_gsis.append(gsis_id)\n",
    "session.commit()\n"
   ]
  },
  {
   "cell_type": "code",
   "execution_count": null,
   "metadata": {},
   "outputs": [],
   "source": [
    "def update_player_by_name(session, name, sleeper_id):\n",
    "    players = session.query(Player).filter(Player.display_name.ilike(f\"%{name}%\")).all()\n",
    "\n",
    "    if not players:\n",
    "        return False, \"Not Found\"\n",
    "    \n",
    "    for i, player in enumerate(players):\n",
    "        ktc_count = len(player.ktc_values) if player.ktc_values else 0\n",
    "        print(f\"{i+1}: {player.display_name}, POS: {player.position}, Sleeper ID: {player.sleeper_id}, KTC Connections: {ktc_count} -> {sleeper_id}\")\n",
    "\n",
    "    if len(players) > 1:\n",
    "        print(\"Please review the listed players to select the correct one to update:\")\n",
    "        choice = int(input(\"Enter the number of the player to update: \")) - 1\n",
    "\n",
    "        clear_output(wait=True)\n",
    "        player_to_update = players[choice]\n",
    "\n",
    "\n",
    "        if choice == -1:\n",
    "            print('Storing for later')\n",
    "            return False, \"Not Found\"\n",
    "    else:\n",
    "        player_to_update = players[0]\n",
    "        \n",
    "    player_to_update.sleeper_id = sleeper_id\n",
    "    session.commit()\n",
    "    print(\"Player Successfully Updated.\")\n",
    "    return True, \"Successful\""
   ]
  }
 ],
 "metadata": {
  "kernelspec": {
   "display_name": "venv",
   "language": "python",
   "name": "python3"
  },
  "language_info": {
   "codemirror_mode": {
    "name": "ipython",
    "version": 3
   },
   "file_extension": ".py",
   "mimetype": "text/x-python",
   "name": "python",
   "nbconvert_exporter": "python",
   "pygments_lexer": "ipython3",
   "version": "3.10.1"
  }
 },
 "nbformat": 4,
 "nbformat_minor": 2
}
