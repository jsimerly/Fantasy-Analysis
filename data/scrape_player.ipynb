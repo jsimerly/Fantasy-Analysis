{
 "cells": [
  {
   "cell_type": "code",
   "execution_count": 6,
   "metadata": {},
   "outputs": [],
   "source": [
    "import pandas as pd\n",
    "import numpy as np\n",
    "import matplotlib.pyplot as plt\n",
    "import seaborn as sns\n",
    "from sqlalchemy.orm import sessionmaker\n",
    "from sqlalchemy import create_engine, not_\n",
    "from dotenv import load_dotenv\n",
    "import os\n",
    "import sys\n",
    "import requests\n",
    "from typing import Any\n",
    "from bs4 import BeautifulSoup\n",
    "import time\n",
    "import re\n",
    "import random\n",
    "import json\n",
    "from datetime import datetime\n",
    "\n",
    "from models import Player, GameStats, KtcValue"
   ]
  },
  {
   "cell_type": "code",
   "execution_count": 7,
   "metadata": {},
   "outputs": [],
   "source": [
    "load_dotenv()\n",
    "DB_USERNAME = os.environ['DB_USERNAME']\n",
    "DB_PASSWORD = os.environ['DB_PASSWORD']\n",
    "DB_HOST = os.environ['DB_HOST']\n",
    "DB_PORT = os.environ['DB_PORT']\n",
    "DB_NAME = os.environ['DB_NAME']\n",
    "\n",
    "DB_URL = f\"postgresql://{DB_USERNAME}:{DB_PASSWORD}@{DB_HOST}:{DB_PORT}/{DB_NAME}\"\n",
    "engine = create_engine(DB_URL, echo=False)\n",
    "\n",
    "Session = sessionmaker(bind=engine)\n",
    "session = Session()"
   ]
  },
  {
   "cell_type": "code",
   "execution_count": 10,
   "metadata": {},
   "outputs": [],
   "source": [
    "player_to_scrape = [] #ktc_ids\n",
    "players = session.query(Player).filter(Player.position=='pick').all()"
   ]
  },
  {
   "cell_type": "code",
   "execution_count": 27,
   "metadata": {},
   "outputs": [],
   "source": [
    "def fetch_soup(url) -> BeautifulSoup:\n",
    "    time.sleep(random.uniform(1,5))\n",
    "    resp = requests.get(url)\n",
    "    soup = BeautifulSoup(resp.text, 'html.parser')\n",
    "    return soup\n",
    "\n",
    "def find_value_data(soup) -> list[dict]:\n",
    "    pattern = re.compile(r'var playerSuperflex', re.MULTILINE | re.DOTALL)\n",
    "    \n",
    "    content = soup.find('script', text=pattern)\n",
    "    content = str(content)\n",
    "    bottomHalf = content.split(\"var playerSuperflex = \",1)[1]\n",
    "    fullCut = bottomHalf.split('var playerOneQB = ',1)[0].strip()\n",
    "    json_text= fullCut[:-1]\n",
    "    js = json.loads(json_text)\n",
    "    data = js['overallValue']\n",
    "    return data\n",
    "\n",
    "def scrape(sleeper_id: int, url):\n",
    "    player = session.query(Player).filter_by(sleeper_id=str(sleeper_id)).first()\n",
    "\n",
    "    if player:\n",
    "        player_soup = fetch_soup(url)\n",
    "        ktc_value_history = find_value_data(player_soup)\n",
    "        \n",
    "        for ktc_value in ktc_value_history:\n",
    "            date = datetime.strptime(ktc_value['d'], '%Y-%m-%d')\n",
    "            value = int(ktc_value['v'])\n",
    "            ktc_value_obj = KtcValue(\n",
    "                player_id = player.id,\n",
    "                date = date,\n",
    "                value = value\n",
    "            )\n",
    "            session.merge(ktc_value_obj)\n",
    "        session.commit()\n",
    "        print(f'{player.display_name} KTC data commited')"
   ]
  }
 ],
 "metadata": {
  "kernelspec": {
   "display_name": "venv",
   "language": "python",
   "name": "python3"
  },
  "language_info": {
   "codemirror_mode": {
    "name": "ipython",
    "version": 3
   },
   "file_extension": ".py",
   "mimetype": "text/x-python",
   "name": "python",
   "nbconvert_exporter": "python",
   "pygments_lexer": "ipython3",
   "version": "3.10.1"
  }
 },
 "nbformat": 4,
 "nbformat_minor": 2
}
