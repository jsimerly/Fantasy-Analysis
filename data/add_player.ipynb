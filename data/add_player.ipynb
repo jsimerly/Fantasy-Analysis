{
 "cells": [
  {
   "cell_type": "code",
   "execution_count": 3,
   "metadata": {},
   "outputs": [],
   "source": [
    "import pandas as pd\n",
    "import numpy as np\n",
    "import matplotlib.pyplot as plt\n",
    "import seaborn as sns\n",
    "from sqlalchemy.orm import sessionmaker\n",
    "from sqlalchemy import create_engine, not_\n",
    "from dotenv import load_dotenv\n",
    "import os\n",
    "import sys\n",
    "import requests\n",
    "from typing import Any\n",
    "\n",
    "from models import Player, GameStats, KtcValue"
   ]
  },
  {
   "cell_type": "code",
   "execution_count": 4,
   "metadata": {},
   "outputs": [],
   "source": [
    "load_dotenv()\n",
    "DB_USERNAME = os.environ['DB_USERNAME']\n",
    "DB_PASSWORD = os.environ['DB_PASSWORD']\n",
    "DB_HOST = os.environ['DB_HOST']\n",
    "DB_PORT = os.environ['DB_PORT']\n",
    "DB_NAME = os.environ['DB_NAME']\n",
    "\n",
    "DB_URL = f\"postgresql://{DB_USERNAME}:{DB_PASSWORD}@{DB_HOST}:{DB_PORT}/{DB_NAME}\"\n",
    "engine = create_engine(DB_URL, echo=False)\n",
    "\n",
    "Session = sessionmaker(bind=engine)\n",
    "session = Session()"
   ]
  },
  {
   "cell_type": "code",
   "execution_count": 17,
   "metadata": {},
   "outputs": [],
   "source": [
    "new_players = [\n",
    "    {'position': 'pick', 'display_name': 'Early 2022 1st', 'sleeper_id': 'e,2022,1'},\n",
    "    {'position': 'pick','display_name': 'Mid 2022 1st', 'sleeper_id': 'm,2022,1'},\n",
    "    {'position': 'pick','display_name': 'Late 2022 1st', 'sleeper_id': 'l,2022,1'},\n",
    "    {'position': 'pick','display_name': 'Early 2022 2nd', 'sleeper_id': 'e,2022,2'},\n",
    "    {'position': 'pick','display_name': 'Mid 2022 2nd', 'sleeper_id': 'm,2022,2'},\n",
    "    {'position': 'pick','display_name': 'Late 2022 2nd', 'sleeper_id': 'l,2022,2'},\n",
    "    {'position': 'pick','display_name': 'Early 2022 3rd', 'sleeper_id': 'e,2022,3'},\n",
    "    {'position': 'pick','display_name': 'Mid 2022 3rd', 'sleeper_id': 'm,2022,3'},\n",
    "    {'position': 'pick','display_name': 'Late 2022 3rd', 'sleeper_id': 'l,2022,3'},\n",
    "\n",
    "    {'position': 'pick','display_name': 'Early 2023 1st', 'sleeper_id': 'e,2023,1'},\n",
    "    {'position': 'pick','display_name': 'Mid 2023 1st', 'sleeper_id': 'm,2023,1'},\n",
    "    {'position': 'pick','display_name': 'Late 2023 1st', 'sleeper_id': 'l,2023,1'},\n",
    "    {'position': 'pick','display_name': 'Early 2023 2nd', 'sleeper_id': 'e,2023,2'},\n",
    "    {'position': 'pick','display_name': 'Mid 2023 2nd', 'sleeper_id': 'm,2023,2'},\n",
    "    {'position': 'pick','display_name': 'Late 2023 2nd', 'sleeper_id': 'l,2023,2'},\n",
    "    {'position': 'pick','display_name': 'Early 2023 3rd', 'sleeper_id': 'e,2023,3'},\n",
    "    {'position': 'pick','display_name': 'Mid 2023 3rd', 'sleeper_id': 'm,2023,3'},\n",
    "    {'position': 'pick','display_name': 'Late 2023 3rd', 'sleeper_id': 'l,2023,3'},\n",
    "\n",
    "    {'position': 'pick','display_name': 'Early 2024 1st', 'sleeper_id': 'e,2024,1', 'ktc_id': '2024-early-1st-1293'},\n",
    "    {'position': 'pick','display_name': 'Mid 2024 1st', 'sleeper_id': 'm,2024,1', 'ktc_id': '2024-mid-1st-1294'},\n",
    "    {'position': 'pick','display_name': 'Late 2024 1st', 'sleeper_id': 'l,2024,1', 'ktc_id': '2024-late-1st-1295'},\n",
    "    {'position': 'pick','display_name': 'Early 2024 2nd', 'sleeper_id': 'e,2024,2', 'ktc_id': '2024-early-2nd-1296'},\n",
    "    {'position': 'pick','display_name': 'Mid 2024 2nd', 'sleeper_id': 'm,2024,2', 'ktc_id': '2024-mid-2nd-1297'},\n",
    "    {'position': 'pick','display_name': 'Late 2024 2nd', 'sleeper_id': 'l,2024,2', 'ktc_id': '2024-late-2nd-1298'},\n",
    "    {'position': 'pick','display_name': 'Early 2024 3rd', 'sleeper_id': 'e,2024,3', 'ktc_id': '2024-early-3rd-1299'},\n",
    "    {'position': 'pick','display_name': 'Mid 2024 3rd', 'sleeper_id': 'm,2024,3', 'ktc_id': '2024-mid-3rd-1300'},\n",
    "    {'position': 'pick','display_name': 'Late 2024 3rd', 'sleeper_id': 'l,2024,3', 'ktc_id': '2024-late-3rd-1301'},\n",
    "\n",
    "    {'position': 'pick','display_name': 'Early 2025 1st', 'sleeper_id': 'e,2025,1', 'ktc_id': '2025-early-1st-1361'},\n",
    "    {'position': 'pick','display_name': 'Mid 2025 1st', 'sleeper_id': 'm,2025,1', 'ktc_id': '2025-mid-1st-1362'},\n",
    "    {'position': 'pick','display_name': 'Late 2025 1st', 'sleeper_id': 'l,2025,1', 'ktc_id': '2025-late-1st-1363'},\n",
    "    {'position': 'pick','display_name': 'Early 2025 2nd', 'sleeper_id': 'e,2025,2', 'ktc_id': '2025-early-2nd-1364'},\n",
    "    {'position': 'pick','display_name': 'Mid 2025 2nd', 'sleeper_id': 'm,2025,2', 'ktc_id': '2025-mid-2nd-1365'},\n",
    "    {'position': 'pick','display_name': 'Late 2025 2nd', 'sleeper_id': 'l,2025,2', 'ktc_id': '2025-late-2nd-1366'},\n",
    "    {'position': 'pick','display_name': 'Early 2025 3rd', 'sleeper_id': 'e,2025,3', 'ktc_id': '2025-early-3rd-1367'},\n",
    "    {'position': 'pick','display_name': 'Mid 2025 3rd', 'sleeper_id': 'm,2025,3', 'ktc_id': '2025-mid-3rd-1368'},\n",
    "    {'position': 'pick','display_name': 'Late 2025 3rd', 'sleeper_id': 'l,2025,3', 'ktc_id': '2025-late-3rd-1368'},\n",
    "\n",
    "    {'position': 'pick','display_name': 'Early 2026 1st', 'sleeper_id': 'e,2026,1', 'ktc_id': '2026-early-1st-1527'},\n",
    "    {'position': 'pick','display_name': 'Mid 2026 1st', 'sleeper_id': 'm,2026,1', 'ktc_id': '2026-mid-1st-1528'},\n",
    "    {'position': 'pick','display_name': 'Late 2026 1st', 'sleeper_id': 'l,2026,1', 'ktc_id': '2026-late-1st-1529'},\n",
    "    {'position': 'pick','display_name': 'Early 2026 2nd', 'sleeper_id': 'e,2026,2', 'ktc_id': '2026-early-2nd-1530'},\n",
    "    {'position': 'pick','display_name': 'Mid 2026 2nd', 'sleeper_id': 'm,2026,2', 'ktc_id': '2026-mid-2nd-1531'},\n",
    "    {'position': 'pick','display_name': 'Late 2026 2nd', 'sleeper_id': 'l,2026,2', 'ktc_id': '2026-late-2nd-1532'},\n",
    "    {'position': 'pick','display_name': 'Early 2026 3rd', 'sleeper_id': 'e,2026,3', 'ktc_id': '2026-early-3rd-1533'},\n",
    "    {'position': 'pick','display_name': 'Mid 2026 3rd', 'sleeper_id': 'm,2026,3', 'ktc_id': '2026-mid-3rd-1534'},\n",
    "    {'position': 'pick','display_name': 'Late 2026 3rd', 'sleeper_id': 'l,2026,3', 'ktc_id': '2026-late-3rd-1535'},\n",
    "\n",
    "    {'position': 'pick','display_name': 'Early 2027 1st', 'sleeper_id': 'e,2027,1'},\n",
    "    {'position': 'pick','display_name': 'Mid 2027 1st', 'sleeper_id': 'm,2027,1'},\n",
    "    {'position': 'pick','display_name': 'Late 2027 1st', 'sleeper_id': 'l,2027,1'},\n",
    "    {'position': 'pick','display_name': 'Early 2027 2nd', 'sleeper_id': 'e,2027,2'},\n",
    "    {'position': 'pick','display_name': 'Mid 2027 2nd', 'sleeper_id': 'm,2027,2'},\n",
    "    {'position': 'pick','display_name': 'Late 2027 2nd', 'sleeper_id': 'l,2027,2'},\n",
    "    {'position': 'pick','display_name': 'Early 2027 3rd', 'sleeper_id': 'e,2027,3'},\n",
    "    {'position': 'pick','display_name': 'Mid 2027 3rd', 'sleeper_id': 'm,2027,3'},\n",
    "    {'position': 'pick','display_name': 'Late 2027 3rd', 'sleeper_id': 'l,2027,3'}\n",
    "]\n",
    "new_players = []"
   ]
  },
  {
   "cell_type": "code",
   "execution_count": 9,
   "metadata": {},
   "outputs": [],
   "source": [
    "for player_data in new_players:\n",
    "    player = Player(**player_data)\n",
    "    session.add(player)\n",
    "\n",
    "session.commit()"
   ]
  }
 ],
 "metadata": {
  "kernelspec": {
   "display_name": "venv",
   "language": "python",
   "name": "python3"
  },
  "language_info": {
   "codemirror_mode": {
    "name": "ipython",
    "version": 3
   },
   "file_extension": ".py",
   "mimetype": "text/x-python",
   "name": "python",
   "nbconvert_exporter": "python",
   "pygments_lexer": "ipython3",
   "version": "3.10.1"
  }
 },
 "nbformat": 4,
 "nbformat_minor": 2
}
