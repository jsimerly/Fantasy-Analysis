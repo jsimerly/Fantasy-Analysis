{
 "cells": [
  {
   "cell_type": "code",
   "execution_count": 31,
   "id": "6689de21-36c0-420e-92c6-306348cac85a",
   "metadata": {},
   "outputs": [],
   "source": [
    "from bs4 import BeautifulSoup\n",
    "import pickle\n",
    "import time\n",
    "import random\n",
    "import requests"
   ]
  },
  {
   "cell_type": "code",
   "execution_count": 4,
   "id": "af5e12e2-92e2-45e8-8fd6-17848f922f61",
   "metadata": {},
   "outputs": [],
   "source": [
    "def get_page(url):\n",
    "    resp = requests.get(url)\n",
    "    return resp\n",
    "    \n",
    "def get_soup(resp):\n",
    "    soup = BeautifulSoup(resp.text, 'html.parser')\n",
    "    return soup\n",
    "\n",
    "def request_soup(url):\n",
    "    resp = get_page(url)\n",
    "    return get_soup(resp)"
   ]
  },
  {
   "cell_type": "code",
   "execution_count": 27,
   "id": "14354ce7-4dd5-4af3-876f-8518aa950efe",
   "metadata": {},
   "outputs": [],
   "source": [
    "##Get Player hrefs\n",
    "stats = ['passing', 'rushing', 'receiving']\n",
    "depth_dict = {\n",
    "    'passing': 50,\n",
    "    'rushing' : 50,\n",
    "    'receiving' : 100,\n",
    "}\n",
    "season_url = f'https://www.pro-football-reference.com/years/{year}/{stat}.htm'\n",
    "\n",
    "player_hrefs = set()\n",
    "for stat in stats:\n",
    "    for i in range(2000,2023):\n",
    "        year = str(i)\n",
    "        season_url = f'https://www.pro-football-reference.com/years/{year}/{stat}.htm'\n",
    "\n",
    "        #request\n",
    "        delay = random.uniform(2,7)\n",
    "        time.sleep(delay)\n",
    "        soup = request_soup(season_url)\n",
    "        \n",
    "        #parse page\n",
    "        table = soup.find('table', {'class':'stats_table'})\n",
    "        all_rows = table.findAll('td', {'data-stat':'player'})\n",
    "        for i in range(depth_dict[stat]):\n",
    "            player_hrefs.add(all_rows[i].find('a', href=True)['href'])"
   ]
  },
  {
   "cell_type": "code",
   "execution_count": 32,
   "id": "e057a10a-4595-4eba-bcf8-9aa24d89923c",
   "metadata": {},
   "outputs": [],
   "source": [
    "#save the hrefs to a .pkl\n",
    "with open('player_hrefs.pkl', 'wb') as f:\n",
    "    pickle.dump(player_hrefs, f)"
   ]
  },
  {
   "cell_type": "code",
   "execution_count": null,
   "id": "b931e910-0e56-4e56-b055-3b7e8bb4851b",
   "metadata": {},
   "outputs": [],
   "source": []
  }
 ],
 "metadata": {
  "kernelspec": {
   "display_name": "Python 3 (ipykernel)",
   "language": "python",
   "name": "python3"
  },
  "language_info": {
   "codemirror_mode": {
    "name": "ipython",
    "version": 3
   },
   "file_extension": ".py",
   "mimetype": "text/x-python",
   "name": "python",
   "nbconvert_exporter": "python",
   "pygments_lexer": "ipython3",
   "version": "3.10.1"
  }
 },
 "nbformat": 4,
 "nbformat_minor": 5
}
